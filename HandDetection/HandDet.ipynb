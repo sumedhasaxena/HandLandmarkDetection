{
 "cells": [
  {
   "cell_type": "code",
   "execution_count": 5,
   "id": "b618bb1f-e7d7-4020-9fcc-641261ceba12",
   "metadata": {},
   "outputs": [],
   "source": [
    "import cv2 as cv\n",
    "import numpy as np\n",
    "from matplotlib import pyplot as plt"
   ]
  },
  {
   "cell_type": "markdown",
   "id": "a5950bb1-b619-4c78-85b0-e3f03cbc1fc7",
   "metadata": {},
   "source": [
    "![HAND](hand_back1.jpg) "
   ]
  },
  {
   "cell_type": "code",
   "execution_count": 8,
   "id": "55884e18-eb91-4ee1-9985-f2d582362628",
   "metadata": {},
   "outputs": [],
   "source": [
    "img = cv.imread('hand_back1.jpg', cv.IMREAD_GRAYSCALE)\n",
    "#img1 = cv.imread('hand_sum_1.jpeg')"
   ]
  },
  {
   "cell_type": "code",
   "execution_count": 9,
   "id": "6aaa39d4-e9a9-4413-8958-abe3663f25fa",
   "metadata": {},
   "outputs": [],
   "source": [
    "ret,thresh1 = cv.threshold(img,127,255,cv.THRESH_BINARY)\n",
    "#ret,thresh2 = cv.threshold(img1,127,255,cv.THRESH_BINARY_INV)\n",
    "#ret,thresh3 = cv.threshold(img1,127,255,cv.THRESH_TRUNC)\n",
    "#ret,thresh4 = cv.threshold(img1,127,255,cv.THRESH_TOZERO)\n",
    "#ret,thresh5 = cv.threshold(img1,127,255,cv.THRESH_TOZERO_INV)\n",
    "cv.imshow(\"After\", thresh1)\n",
    "\n",
    "\n",
    "\n",
    "\n",
    "\n",
    "\n",
    "#titles = ['Original Image','BINARY','BINARY_INV','TRUNC','TOZERO','TOZERO_INV']\n",
    "#images = [img, thresh1, thresh2, thresh3, thresh4, thresh5]\n",
    "#for i in range(6):\n",
    "#    plt.subplot(2,3,i+1),plt.imshow(images[i],'gray',vmin=0,vmax=255)\n",
    "#    plt.title(titles[i])\n",
    "#    plt.xticks([]),plt.yticks([])\n",
    "#plt.show()"
   ]
  },
  {
   "cell_type": "code",
   "execution_count": null,
   "id": "f0d641f2-50b2-43f9-ac35-263fe87c92a7",
   "metadata": {},
   "outputs": [],
   "source": [
    "contours, _ = cv.findContours(thresh1,cv.RETR_TREE,cv.CHAIN_APPROX_SIMPLE)\n",
    "cnt = contours[0]\n",
    "# compute the bounding rectangle of the contour\n",
    "x,y,w,h = cv.boundingRect(cnt)\n",
    "\n",
    "# draw contour\n",
    "img = cv.drawContours(img,[cnt],0,(0,255,255),2)\n",
    "\n",
    "# draw the bounding rectangle\n",
    "img = cv.rectangle(img,(x,y),(x+w,y+h),(0,255,0),2)\n",
    "cv.imshow(\"Bounding Rectangle\", img)"
   ]
  }
 ],
 "metadata": {
  "kernelspec": {
   "display_name": "Python 3 (ipykernel)",
   "language": "python",
   "name": "python3"
  },
  "language_info": {
   "codemirror_mode": {
    "name": "ipython",
    "version": 3
   },
   "file_extension": ".py",
   "mimetype": "text/x-python",
   "name": "python",
   "nbconvert_exporter": "python",
   "pygments_lexer": "ipython3",
   "version": "3.8.18"
  }
 },
 "nbformat": 4,
 "nbformat_minor": 5
}
