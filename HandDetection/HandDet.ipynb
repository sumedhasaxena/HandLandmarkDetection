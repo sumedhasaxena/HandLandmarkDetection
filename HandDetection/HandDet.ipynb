{
 "cells": [
  {
   "cell_type": "code",
   "execution_count": 1,
   "id": "b618bb1f-e7d7-4020-9fcc-641261ceba12",
   "metadata": {},
   "outputs": [],
   "source": [
    "import cv2 as cv\n",
    "import numpy as np\n",
    "from matplotlib import pyplot as plt"
   ]
  },
  {
   "cell_type": "markdown",
   "id": "a5950bb1-b619-4c78-85b0-e3f03cbc1fc7",
   "metadata": {},
   "source": [
    "![HAND](hand_back1.jpg) "
   ]
  },
  {
   "cell_type": "code",
   "execution_count": 4,
   "id": "55884e18-eb91-4ee1-9985-f2d582362628",
   "metadata": {},
   "outputs": [],
   "source": [
    "img = cv.imread('hand_prof_1.jpg', cv.IMREAD_GRAYSCALE)\n",
    "#img1 = cv.imread('hand_sum_1.jpeg')"
   ]
  },
  {
   "cell_type": "code",
   "execution_count": 5,
   "id": "6aaa39d4-e9a9-4413-8958-abe3663f25fa",
   "metadata": {},
   "outputs": [
    {
     "ename": "error",
     "evalue": "OpenCV(4.8.1) D:\\a\\opencv-python\\opencv-python\\opencv\\modules\\highgui\\src\\window.cpp:971: error: (-215:Assertion failed) size.width>0 && size.height>0 in function 'cv::imshow'\n",
     "output_type": "error",
     "traceback": [
      "\u001b[1;31m---------------------------------------------------------------------------\u001b[0m",
      "\u001b[1;31merror\u001b[0m                                     Traceback (most recent call last)",
      "Cell \u001b[1;32mIn[5], line 6\u001b[0m\n\u001b[0;32m      1\u001b[0m ret,thresh1 \u001b[38;5;241m=\u001b[39m cv\u001b[38;5;241m.\u001b[39mthreshold(img,\u001b[38;5;241m127\u001b[39m,\u001b[38;5;241m255\u001b[39m,cv\u001b[38;5;241m.\u001b[39mTHRESH_BINARY)\n\u001b[0;32m      2\u001b[0m \u001b[38;5;66;03m#ret,thresh2 = cv.threshold(img1,127,255,cv.THRESH_BINARY_INV)\u001b[39;00m\n\u001b[0;32m      3\u001b[0m \u001b[38;5;66;03m#ret,thresh3 = cv.threshold(img1,127,255,cv.THRESH_TRUNC)\u001b[39;00m\n\u001b[0;32m      4\u001b[0m \u001b[38;5;66;03m#ret,thresh4 = cv.threshold(img1,127,255,cv.THRESH_TOZERO)\u001b[39;00m\n\u001b[0;32m      5\u001b[0m \u001b[38;5;66;03m#ret,thresh5 = cv.threshold(img1,127,255,cv.THRESH_TOZERO_INV)\u001b[39;00m\n\u001b[1;32m----> 6\u001b[0m \u001b[43mcv\u001b[49m\u001b[38;5;241;43m.\u001b[39;49m\u001b[43mimshow\u001b[49m\u001b[43m(\u001b[49m\u001b[38;5;124;43m\"\u001b[39;49m\u001b[38;5;124;43mAfter\u001b[39;49m\u001b[38;5;124;43m\"\u001b[39;49m\u001b[43m,\u001b[49m\u001b[43m \u001b[49m\u001b[43mthresh1\u001b[49m\u001b[43m)\u001b[49m\n\u001b[0;32m     13\u001b[0m \u001b[38;5;66;03m#titles = ['Original Image','BINARY','BINARY_INV','TRUNC','TOZERO','TOZERO_INV']\u001b[39;00m\n\u001b[0;32m     14\u001b[0m \u001b[38;5;66;03m#images = [img, thresh1, thresh2, thresh3, thresh4, thresh5]\u001b[39;00m\n\u001b[0;32m     15\u001b[0m \u001b[38;5;66;03m#for i in range(6):\u001b[39;00m\n\u001b[1;32m   (...)\u001b[0m\n\u001b[0;32m     18\u001b[0m \u001b[38;5;66;03m#    plt.xticks([]),plt.yticks([])\u001b[39;00m\n\u001b[0;32m     19\u001b[0m \u001b[38;5;66;03m#plt.show()\u001b[39;00m\n",
      "\u001b[1;31merror\u001b[0m: OpenCV(4.8.1) D:\\a\\opencv-python\\opencv-python\\opencv\\modules\\highgui\\src\\window.cpp:971: error: (-215:Assertion failed) size.width>0 && size.height>0 in function 'cv::imshow'\n"
     ]
    }
   ],
   "source": [
    "ret,thresh1 = cv.threshold(img,127,255,cv.THRESH_BINARY)\n",
    "#ret,thresh2 = cv.threshold(img1,127,255,cv.THRESH_BINARY_INV)\n",
    "#ret,thresh3 = cv.threshold(img1,127,255,cv.THRESH_TRUNC)\n",
    "#ret,thresh4 = cv.threshold(img1,127,255,cv.THRESH_TOZERO)\n",
    "#ret,thresh5 = cv.threshold(img1,127,255,cv.THRESH_TOZERO_INV)\n",
    "cv.imshow(\"After\", thresh1)\n",
    "\n",
    "\n",
    "\n",
    "\n",
    "\n",
    "\n",
    "#titles = ['Original Image','BINARY','BINARY_INV','TRUNC','TOZERO','TOZERO_INV']\n",
    "#images = [img, thresh1, thresh2, thresh3, thresh4, thresh5]\n",
    "#for i in range(6):\n",
    "#    plt.subplot(2,3,i+1),plt.imshow(images[i],'gray',vmin=0,vmax=255)\n",
    "#    plt.title(titles[i])\n",
    "#    plt.xticks([]),plt.yticks([])\n",
    "#plt.show()"
   ]
  },
  {
   "cell_type": "code",
   "execution_count": 6,
   "id": "f0d641f2-50b2-43f9-ac35-263fe87c92a7",
   "metadata": {},
   "outputs": [
    {
     "ename": "IndexError",
     "evalue": "tuple index out of range",
     "output_type": "error",
     "traceback": [
      "\u001b[1;31m---------------------------------------------------------------------------\u001b[0m",
      "\u001b[1;31mIndexError\u001b[0m                                Traceback (most recent call last)",
      "Cell \u001b[1;32mIn[6], line 2\u001b[0m\n\u001b[0;32m      1\u001b[0m contours, _ \u001b[38;5;241m=\u001b[39m cv\u001b[38;5;241m.\u001b[39mfindContours(thresh1,cv\u001b[38;5;241m.\u001b[39mRETR_TREE,cv\u001b[38;5;241m.\u001b[39mCHAIN_APPROX_SIMPLE)\n\u001b[1;32m----> 2\u001b[0m cnt \u001b[38;5;241m=\u001b[39m \u001b[43mcontours\u001b[49m\u001b[43m[\u001b[49m\u001b[38;5;241;43m0\u001b[39;49m\u001b[43m]\u001b[49m\n\u001b[0;32m      3\u001b[0m \u001b[38;5;66;03m# compute the bounding rectangle of the contour\u001b[39;00m\n\u001b[0;32m      4\u001b[0m x,y,w,h \u001b[38;5;241m=\u001b[39m cv\u001b[38;5;241m.\u001b[39mboundingRect(cnt)\n",
      "\u001b[1;31mIndexError\u001b[0m: tuple index out of range"
     ]
    }
   ],
   "source": [
    "contours, _ = cv.findContours(thresh1,cv.RETR_TREE,cv.CHAIN_APPROX_SIMPLE)\n",
    "cnt = contours[0]\n",
    "# compute the bounding rectangle of the contour\n",
    "x,y,w,h = cv.boundingRect(cnt)\n",
    "\n",
    "# draw contour\n",
    "img = cv.drawContours(img,[cnt],0,(0,255,255),2)\n",
    "\n",
    "# draw the bounding rectangle\n",
    "img = cv.rectangle(img,(x,y),(x+w,y+h),(0,255,0),2)\n",
    "cv.imshow(\"Bounding Rectangle\", img)"
   ]
  }
 ],
 "metadata": {
  "kernelspec": {
   "display_name": "Python 3 (ipykernel)",
   "language": "python",
   "name": "python3"
  },
  "language_info": {
   "codemirror_mode": {
    "name": "ipython",
    "version": 3
   },
   "file_extension": ".py",
   "mimetype": "text/x-python",
   "name": "python",
   "nbconvert_exporter": "python",
   "pygments_lexer": "ipython3",
   "version": "3.8.18"
  }
 },
 "nbformat": 4,
 "nbformat_minor": 5
}
